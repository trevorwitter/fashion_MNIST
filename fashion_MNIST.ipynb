{
 "cells": [
  {
   "cell_type": "code",
   "execution_count": 2,
   "metadata": {
    "collapsed": true
   },
   "outputs": [],
   "source": [
    "%matplotlib inline\n",
    "import matplotlib\n",
    "import matplotlib.pyplot as plt\n",
    "import pandas as pd"
   ]
  },
  {
   "cell_type": "code",
   "execution_count": 3,
   "metadata": {
    "collapsed": true
   },
   "outputs": [],
   "source": [
    "train = pd.read_csv('fashion-mnist_train.csv', header=0)"
   ]
  },
  {
   "cell_type": "code",
   "execution_count": 32,
   "metadata": {
    "collapsed": false
   },
   "outputs": [],
   "source": [
    "X_train = train.drop('label', axis=1).as_matrix()\n",
    "y_train = train['label'].as_matrix()"
   ]
  },
  {
   "cell_type": "code",
   "execution_count": 33,
   "metadata": {
    "collapsed": false
   },
   "outputs": [
    {
     "name": "stdout",
     "output_type": "stream",
     "text": [
      "X_train shape: (60000, 784) , y_train shape: (60000,)\n"
     ]
    }
   ],
   "source": [
    "print(\"X_train shape:\", X_train.shape, \", y_train shape:\", y_train.shape)"
   ]
  },
  {
   "cell_type": "code",
   "execution_count": 34,
   "metadata": {
    "collapsed": false
   },
   "outputs": [],
   "source": [
    "test = pd.read_csv('fashion-mnist_test.csv', header=0)\n",
    "X_test = test.drop('label', axis=1).as_matrix()\n",
    "y_test = test['label'].as_matrix()"
   ]
  },
  {
   "cell_type": "code",
   "execution_count": 35,
   "metadata": {
    "collapsed": false
   },
   "outputs": [
    {
     "name": "stdout",
     "output_type": "stream",
     "text": [
      "X_test shape: (10000, 784) , y_test shape: (10000,)\n"
     ]
    }
   ],
   "source": [
    "print(\"X_test shape:\", X_test.shape, \", y_test shape:\", y_test.shape)"
   ]
  },
  {
   "cell_type": "code",
   "execution_count": 54,
   "metadata": {
    "collapsed": false
   },
   "outputs": [
    {
     "data": {
      "image/png": "[encoded data removed]",
      "text/plain": [
       "<matplotlib.figure.Figure at 0x128569ac8>"
      ]
     },
     "metadata": {},
     "output_type": "display_data"
    }
   ],
   "source": [
    "test_image = X_train[5002]\n",
    "test_digit_image = test_image.reshape(28,28)\n",
    "\n",
    "plt.imshow(test_digit_image, cmap=matplotlib.cm.binary,\n",
    "           interpolation=\"nearest\")\n",
    "plt.axis(\"off\")\n",
    "plt.show()"
   ]
  },
  {
   "cell_type": "code",
   "execution_count": 55,
   "metadata": {
    "collapsed": false
   },
   "outputs": [
    {
     "data": {
      "text/plain": [
       "2"
      ]
     },
     "execution_count": 55,
     "metadata": {},
     "output_type": "execute_result"
    }
   ],
   "source": [
    "y_train[5002]"
   ]
  },
  {
   "cell_type": "code",
   "execution_count": 51,
   "metadata": {
    "collapsed": true
   },
   "outputs": [],
   "source": [
    "import numpy as np\n",
    "\n",
    "shuffle_index = np.random.permutation(60000)\n",
    "X_train, y_train = X_train[shuffle_index], y_train[shuffle_index]"
   ]
  },
  {
   "cell_type": "code",
   "execution_count": 52,
   "metadata": {
    "collapsed": false
   },
   "outputs": [
    {
     "name": "stderr",
     "output_type": "stream",
     "text": [
      "/Applications/anaconda/envs/python3/lib/python3.5/site-packages/sklearn/linear_model/stochastic_gradient.py:84: FutureWarning: max_iter and tol parameters have been added in <class 'sklearn.linear_model.stochastic_gradient.SGDClassifier'> in 0.19. If both are left unset, they default to max_iter=5 and tol=None. If tol is not None, max_iter defaults to max_iter=1000. From 0.21, default max_iter will be 1000, and default tol will be 1e-3.\n",
      "  \"and default tol will be 1e-3.\" % type(self), FutureWarning)\n"
     ]
    },
    {
     "data": {
      "text/plain": [
       "SGDClassifier(alpha=0.0001, average=False, class_weight=None, epsilon=0.1,\n",
       "       eta0=0.0, fit_intercept=True, l1_ratio=0.15,\n",
       "       learning_rate='optimal', loss='hinge', max_iter=5, n_iter=None,\n",
       "       n_jobs=1, penalty='l2', power_t=0.5, random_state=42, shuffle=True,\n",
       "       tol=None, verbose=0, warm_start=False)"
      ]
     },
     "execution_count": 52,
     "metadata": {},
     "output_type": "execute_result"
    }
   ],
   "source": [
    "from sklearn.linear_model import SGDClassifier\n",
    "\n",
    "sgd_clf = SGDClassifier(random_state=42)\n",
    "sgd_clf.fit(X_train, y_train)"
   ]
  },
  {
   "cell_type": "code",
   "execution_count": 57,
   "metadata": {
    "collapsed": false
   },
   "outputs": [
    {
     "data": {
      "text/plain": [
       "array([6])"
      ]
     },
     "execution_count": 57,
     "metadata": {},
     "output_type": "execute_result"
    }
   ],
   "source": [
    "sgd_clf.predict([X_train[5002]])"
   ]
  },
  {
   "cell_type": "code",
   "execution_count": 59,
   "metadata": {
    "collapsed": false
   },
   "outputs": [
    {
     "name": "stdout",
     "output_type": "stream",
     "text": [
      "CPU times: user 6.74 s, sys: 498 ms, total: 7.24 s\n",
      "Wall time: 6.9 s\n"
     ]
    }
   ],
   "source": [
    "%%time\n",
    "from sklearn.model_selection import cross_val_score\n",
    "\n",
    "y_scores_sgd = cross_val_score(sgd_clf, X_train, y_train, cv=3, scoring=\"accuracy\")"
   ]
  },
  {
   "cell_type": "code",
   "execution_count": 60,
   "metadata": {
    "collapsed": false
   },
   "outputs": [
    {
     "name": "stdout",
     "output_type": "stream",
     "text": [
      "CPU times: user 22 s, sys: 544 ms, total: 22.6 s\n",
      "Wall time: 5.22 s\n"
     ]
    }
   ],
   "source": [
    "%%time\n",
    "from sklearn.ensemble import RandomForestClassifier\n",
    "\n",
    "forest_clf = RandomForestClassifier(n_jobs=-1, random_state=42)\n",
    "y_scores_forest = cross_val_score(forest_clf, X_train, y_train, cv=3, scoring='accuracy')"
   ]
  },
  {
   "cell_type": "code",
   "execution_count": 61,
   "metadata": {
    "collapsed": false
   },
   "outputs": [
    {
     "name": "stdout",
     "output_type": "stream",
     "text": [
      "CPU times: user 1h 18min 56s, sys: 7.16 s, total: 1h 19min 4s\n",
      "Wall time: 10min 37s\n"
     ]
    }
   ],
   "source": [
    "%%time\n",
    "from sklearn.neighbors import KNeighborsClassifier\n",
    "\n",
    "knn_clf = KNeighborsClassifier(n_jobs=-1)\n",
    "y_scores_knn = cross_val_score(knn_clf, X_train, y_train, cv=3, scoring=\"accuracy\")"
   ]
  },
  {
   "cell_type": "code",
   "execution_count": 63,
   "metadata": {
    "collapsed": false
   },
   "outputs": [
    {
     "name": "stdout",
     "output_type": "stream",
     "text": [
      "SGD: [ 0.77445  0.8003   0.8073 ]\n",
      "Random Forest: [ 0.85425  0.85415  0.8562 ]\n",
      "KNN: [ 0.8478   0.85445  0.8543 ]\n"
     ]
    }
   ],
   "source": [
    "print(\"SGD:\", y_scores_sgd)\n",
    "print(\"Random Forest:\", y_scores_forest)\n",
    "print(\"KNN:\", y_scores_knn)"
   ]
  },
  {
   "cell_type": "markdown",
   "metadata": {},
   "source": [
    "Based on initial accuracy scores, the random forest and k-nearest neighbors classifiers performed better than the stochastic gradient decent classifier. I selected the random forest model as it performed roughly the same as the k-nearest neighbors classifier and ran approximately 250 times faster. "
   ]
  },
  {
   "cell_type": "code",
   "execution_count": 67,
   "metadata": {
    "collapsed": false
   },
   "outputs": [
    {
     "data": {
      "text/plain": [
       "GridSearchCV(cv=3, error_score='raise',\n",
       "       estimator=RandomForestClassifier(bootstrap=True, class_weight=None, criterion='gini',\n",
       "            max_depth=None, max_features='auto', max_leaf_nodes=None,\n",
       "            min_impurity_decrease=0.0, min_impurity_split=None,\n",
       "            min_samples_leaf=1, min_samples_split=2,\n",
       "            min_weight_fraction_leaf=0.0, n_estimators=10, n_jobs=-1,\n",
       "            oob_score=False, random_state=42, verbose=0, warm_start=False),\n",
       "       fit_params=None, iid=True, n_jobs=1,\n",
       "       param_grid=[{'n_estimators': [180, 200, 220, 240], 'max_features': [20, 30, 35]}, {'bootstrap': [False], 'n_estimators': [3, 10], 'max_features': [2, 3, 4]}],\n",
       "       pre_dispatch='2*n_jobs', refit=True, return_train_score=True,\n",
       "       scoring='accuracy', verbose=0)"
      ]
     },
     "execution_count": 67,
     "metadata": {},
     "output_type": "execute_result"
    }
   ],
   "source": [
    "from sklearn.model_selection import GridSearchCV\n",
    "\n",
    "param_grid = [{'n_estimators':[180,200,220,240], 'max_features':[20,30,35]},\n",
    "              {'bootstrap':[False], 'n_estimators':[3,10], 'max_features':[2,3,4]},\n",
    "             ]\n",
    "\n",
    "grid_search = GridSearchCV(forest_clf, param_grid, cv=3, scoring='accuracy')\n",
    "grid_search.fit(X_train, y_train)"
   ]
  },
  {
   "cell_type": "code",
   "execution_count": 68,
   "metadata": {
    "collapsed": false
   },
   "outputs": [
    {
     "name": "stdout",
     "output_type": "stream",
     "text": [
      "0.879433333333 {'n_estimators': 180, 'max_features': 20}\n",
      "0.879866666667 {'n_estimators': 200, 'max_features': 20}\n",
      "0.879833333333 {'n_estimators': 220, 'max_features': 20}\n",
      "0.879916666667 {'n_estimators': 240, 'max_features': 20}\n",
      "0.880616666667 {'n_estimators': 180, 'max_features': 30}\n",
      "0.880516666667 {'n_estimators': 200, 'max_features': 30}\n",
      "0.88055 {'n_estimators': 220, 'max_features': 30}\n",
      "0.880133333333 {'n_estimators': 240, 'max_features': 30}\n",
      "0.881216666667 {'n_estimators': 180, 'max_features': 35}\n",
      "0.881633333333 {'n_estimators': 200, 'max_features': 35}\n",
      "0.881166666667 {'n_estimators': 220, 'max_features': 35}\n",
      "0.881966666667 {'n_estimators': 240, 'max_features': 35}\n",
      "0.7626 {'bootstrap': False, 'n_estimators': 3, 'max_features': 2}\n",
      "0.83255 {'bootstrap': False, 'n_estimators': 10, 'max_features': 2}\n",
      "0.768916666667 {'bootstrap': False, 'n_estimators': 3, 'max_features': 3}\n",
      "0.834 {'bootstrap': False, 'n_estimators': 10, 'max_features': 3}\n",
      "0.783283333333 {'bootstrap': False, 'n_estimators': 3, 'max_features': 4}\n",
      "0.842483333333 {'bootstrap': False, 'n_estimators': 10, 'max_features': 4}\n"
     ]
    }
   ],
   "source": [
    "cvres = grid_search.cv_results_\n",
    "for mean_score, params in zip(cvres[\"mean_test_score\"], cvres[\"params\"]):\n",
    "    print(mean_score, params)"
   ]
  },
  {
   "cell_type": "code",
   "execution_count": 69,
   "metadata": {
    "collapsed": false
   },
   "outputs": [
    {
     "data": {
      "text/plain": [
       "0.88196666666666668"
      ]
     },
     "execution_count": 69,
     "metadata": {},
     "output_type": "execute_result"
    }
   ],
   "source": [
    "grid_search.best_score_"
   ]
  },
  {
   "cell_type": "code",
   "execution_count": 70,
   "metadata": {
    "collapsed": false
   },
   "outputs": [
    {
     "data": {
      "text/plain": [
       "{'max_features': 35, 'n_estimators': 240}"
      ]
     },
     "execution_count": 70,
     "metadata": {},
     "output_type": "execute_result"
    }
   ],
   "source": [
    "grid_search.best_params_"
   ]
  },
  {
   "cell_type": "code",
   "execution_count": null,
   "metadata": {
    "collapsed": true
   },
   "outputs": [],
   "source": [
    "# For converting numeric labels to text\n",
    "labels = {0:\"T-shirt/top\", \n",
    "          1:\"Trouser\", \n",
    "          2:\"Pullover\", \n",
    "          3:\"Dress\", \n",
    "          4:\"Coat\", \n",
    "          5:\"Sandal\", \n",
    "          6:\"Shirt\", \n",
    "          7:\"Sneaker\", \n",
    "          8:\"Bag\", \n",
    "          9:\"Ankle boot\"}"
   ]
  },
  {
   "cell_type": "code",
   "execution_count": 103,
   "metadata": {
    "collapsed": true
   },
   "outputs": [],
   "source": [
    "final_model = grid_search.best_estimator_\n",
    "\n",
    "def label_clothing(indexes):\n",
    "    \"\"\"Prints label prediction based on clothing image and correct answer\n",
    "    based on y_test labels\"\"\"\n",
    "    for x in indexes:\n",
    "        pred = final_model.predict([X_test[x]])\n",
    "        correct = y_test[x]\n",
    "        print(\"Prediction:\", labels[pred[0]], \"Correct Answer:\", labels[correct])\n",
    "        #print(\"prediction:\", final_model.predict(X_test[x].reshape(1,-1)), \n",
    "        #      \"Correct Answer:\", y_test[x])"
   ]
  },
  {
   "cell_type": "code",
   "execution_count": 105,
   "metadata": {
    "collapsed": false
   },
   "outputs": [
    {
     "name": "stdout",
     "output_type": "stream",
     "text": [
      "Prediction: Ankle boot Correct Answer: Ankle boot\n",
      "Prediction: Dress Correct Answer: Dress\n",
      "Prediction: Shirt Correct Answer: Dress\n",
      "Prediction: Sneaker Correct Answer: Sneaker\n",
      "Prediction: Pullover Correct Answer: Pullover\n",
      "Prediction: Sneaker Correct Answer: Ankle boot\n",
      "Prediction: Trouser Correct Answer: Trouser\n",
      "Prediction: T-shirt/top Correct Answer: T-shirt/top\n",
      "Prediction: Bag Correct Answer: Bag\n",
      "Prediction: Coat Correct Answer: Coat\n"
     ]
    }
   ],
   "source": [
    "import random\n",
    "\n",
    "numbers = random.sample(range(0,10000), 10)\n",
    "\n",
    "label_clothing(numbers)"
   ]
  },
  {
   "cell_type": "markdown",
   "metadata": {},
   "source": [
    "The random forest algorithm is great general purpose algorithm for a number of reasons:\n",
    "* Requires minimal tuning\n",
    "* Requires minimal feature preprocessing\n",
    "* Is capable of feature selection\n",
    "* Is quicker than similar performing algorithms such as KNN\n",
    "\n",
    "Though this model performs moderately well (88% accuracy), I will explore other options such as neural networks as a next step to see if I can increase the accuracy. "
   ]
  },
  {
   "cell_type": "code",
   "execution_count": null,
   "metadata": {
    "collapsed": true
   },
   "outputs": [],
   "source": []
  }
 ],
 "metadata": {
  "kernelspec": {
   "display_name": "Python [conda env:python3]",
   "language": "python",
   "name": "conda-env-python3-py"
  },
  "language_info": {
   "codemirror_mode": {
    "name": "ipython",
    "version": 3
   },
   "file_extension": ".py",
   "mimetype": "text/x-python",
   "name": "python",
   "nbconvert_exporter": "python",
   "pygments_lexer": "ipython3",
   "version": "3.5.2"
  }
 },
 "nbformat": 4,
 "nbformat_minor": 2
}
